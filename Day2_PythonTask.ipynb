{
  "nbformat": 4,
  "nbformat_minor": 0,
  "metadata": {
    "colab": {
      "provenance": []
    },
    "kernelspec": {
      "name": "python3",
      "display_name": "Python 3"
    },
    "language_info": {
      "name": "python"
    }
  },
  "cells": [
    {
      "cell_type": "code",
      "execution_count": null,
      "metadata": {
        "colab": {
          "base_uri": "https://localhost:8080/"
        },
        "id": "FD5RmYWXdYOz",
        "outputId": "fae9291c-85f2-4958-f868-9b248d8b6d10"
      },
      "outputs": [
        {
          "output_type": "stream",
          "name": "stdout",
          "text": [
            "Hello, World!\n",
            "\n",
            "Sum of 12 and 23 is: 35\n",
            "\n",
            "Enter the first number: 2\n",
            "Enter the second number: 3\n",
            "The product of 2.0 and 3.0 is: 6.0\n"
          ]
        }
      ],
      "source": [
        "# Task 1: Hello World Program\n",
        "print(\"Hello, World!\")\n",
        "\n",
        "# Task 2: Sum of Two Numbers\n",
        "# Pre-defined values\n",
        "a = 12\n",
        "b = 23\n",
        "sum_result = a + b\n",
        "print(\"\\nSum of\", a, \"and\", b, \"is:\", sum_result)\n",
        "\n",
        "# Task 3: Product of Two Numbers (with user input and comments)\n",
        "\n",
        "# Ask the user to input the two number\n",
        "num1 = float(input(\"\\nEnter the first number: \"))\n",
        "num2 = float(input(\"Enter the second number: \"))\n",
        "# Multiply the numbers\n",
        "product = num1 * num2\n",
        "# Display the result\n",
        "print(\"The product of\", num1, \"and\", num2, \"is:\", product)"
      ]
    },
    {
      "cell_type": "markdown",
      "source": [],
      "metadata": {
        "id": "iO4kvi78dZjj"
      }
    }
  ]
}